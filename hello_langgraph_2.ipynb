{
 "cells": [
  {
   "cell_type": "code",
   "execution_count": 1,
   "id": "5af626fd",
   "metadata": {},
   "outputs": [],
   "source": [
    "from typing import TypedDict\n",
    "from langgraph.graph import StateGraph, START, END"
   ]
  },
  {
   "cell_type": "code",
   "execution_count": null,
   "id": "f287286a",
   "metadata": {},
   "outputs": [],
   "source": [
    "# This is a simple calculator agent that performs basic arithmetic operations.\n",
    "class AgentState(TypedDict):\n",
    "    num1: int\n",
    "    operation: str\n",
    "    num2: int\n",
    "    result: int"
   ]
  },
  {
   "cell_type": "code",
   "execution_count": null,
   "id": "2909de2c",
   "metadata": {},
   "outputs": [],
   "source": [
    "# Define the state graph for the calculator agent\n",
    "def adder(state: AgentState) -> AgentState:\n",
    "    \"\"\"Perform addition.\"\"\"\n",
    "    state['result'] = state['num1'] + state['num2']\n",
    "    return state\n",
    "def subtractor(state: AgentState) -> AgentState:\n",
    "    \"\"\"Perform subtraction.\"\"\"\n",
    "    state['result'] = state['num1'] - state['num2']\n",
    "    return state"
   ]
  },
  {
   "cell_type": "code",
   "execution_count": null,
   "id": "81c64faa",
   "metadata": {},
   "outputs": [],
   "source": [
    "# Define the decision node\n",
    "def decide_next_node(state: AgentState) -> AgentState:\n",
    "    \"\"\"Decide which operation to perform next based on the operation.\"\"\"\n",
    "    if state['operation'] == '+':\n",
    "        return 'add_operation'\n",
    "    elif state['operation'] == '-':\n",
    "        return 'sub_operation'\n",
    "    else:\n",
    "        raise ValueError(\"Unknown operation\")"
   ]
  },
  {
   "cell_type": "code",
   "execution_count": null,
   "id": "4525c3fa",
   "metadata": {},
   "outputs": [],
   "source": [
    "# Create the state graph\n",
    "graph = StateGraph(AgentState)\n",
    "\n",
    "# Define the nodes and edges of the graph\n",
    "graph.add_node(\"add_node\", adder)\n",
    "graph.add_node(\"sub_node\", subtractor)\n",
    "graph.add_node(\"decide_node\", lambda state:state) # No operation, just a pass-through\n",
    "\n",
    "graph.add_edge(START, \"decide_node\")\n",
    "graph.add_conditional_edges(\n",
    "    \"decide_node\",\n",
    "    decide_next_node,\n",
    "    {\n",
    "        'add_operation': \"add_node\",\n",
    "        'sub_operation': \"sub_node\"\n",
    "    }\n",
    "    \n",
    ")\n",
    "graph.add_edge(\"add_node\", END)\n",
    "graph.add_edge(\"sub_node\", END)\n",
    "\n",
    "# Compile the graph to create the agent\n",
    "app = graph.compile()\n"
   ]
  },
  {
   "cell_type": "code",
   "execution_count": null,
   "id": "fa1bd7a7",
   "metadata": {},
   "outputs": [
    {
     "data": {
      "image/png": "[encoded data removed]",
      "text/plain": [
       "<IPython.core.display.Image object>"
      ]
     },
     "metadata": {},
     "output_type": "display_data"
    }
   ],
   "source": [
    "# Display the graph in Mermaid format\n",
    "from IPython.display import Image, display\n",
    "display(Image(app.get_graph().draw_mermaid_png()))"
   ]
  },
  {
   "cell_type": "code",
   "execution_count": null,
   "id": "ce8a020f",
   "metadata": {},
   "outputs": [
    {
     "name": "stdout",
     "output_type": "stream",
     "text": [
      "{'num1': 10, 'operation': '+', 'num2': 5, 'result': 15}\n"
     ]
    }
   ],
   "source": [
    "# Example usage of the calculator agent with addition\n",
    "stage_1 = AgentState(num1=10, operation='+', num2=5)\n",
    "print(app.invoke(stage_1))"
   ]
  },
  {
   "cell_type": "code",
   "execution_count": null,
   "id": "a4e39095",
   "metadata": {},
   "outputs": [
    {
     "name": "stdout",
     "output_type": "stream",
     "text": [
      "{'num1': 10, 'operation': '-', 'num2': 5, 'result': 5}\n"
     ]
    }
   ],
   "source": [
    "# Example usage of the calculator agent with subtraction\n",
    "stage_2 = AgentState(num1=10, operation='-', num2=5)\n",
    "print(app.invoke(stage_2))"
   ]
  }
 ],
 "metadata": {
  "kernelspec": {
   "display_name": ".venv",
   "language": "python",
   "name": "python3"
  },
  "language_info": {
   "codemirror_mode": {
    "name": "ipython",
    "version": 3
   },
   "file_extension": ".py",
   "mimetype": "text/x-python",
   "name": "python",
   "nbconvert_exporter": "python",
   "pygments_lexer": "ipython3",
   "version": "3.11.12"
  }
 },
 "nbformat": 4,
 "nbformat_minor": 5
}
